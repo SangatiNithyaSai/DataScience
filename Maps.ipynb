{
  "nbformat": 4,
  "nbformat_minor": 0,
  "metadata": {
    "colab": {
      "name": "M4_Lab1.ipynb",
      "provenance": [],
      "collapsed_sections": [],
      "include_colab_link": true
    },
    "kernelspec": {
      "name": "python3",
      "display_name": "Python 3"
    }
  },
  "cells": [
    {
      "cell_type": "markdown",
      "metadata": {
        "id": "view-in-github",
        "colab_type": "text"
      },
      "source": [
        "<a href=\"https://colab.research.google.com/github/SangatiNithyaSai/DataScience/blob/main/Maps.ipynb\" target=\"_parent\"><img src=\"https://colab.research.google.com/assets/colab-badge.svg\" alt=\"Open In Colab\"/></a>"
      ]
    },
    {
      "cell_type": "markdown",
      "metadata": {
        "id": "pl376Q2PyEQs"
      },
      "source": [
        "# **Overview**\n",
        "* Geospatial analysis is taking on an ever more important role in the industry\n",
        "* The Folium library in Python helps us analyze the location and geospatial data with ease and lets us create interactive maps"
      ]
    },
    {
      "cell_type": "markdown",
      "metadata": {
        "id": "umfb_uh4yLVF"
      },
      "source": [
        "## What is Folium?\n",
        "Folium is a Python library used for visualizing geospatial data. It is easy to use and yet a powerful library. Folium is a Python wrapper for Leaflet.js which is a leading open-source JavaScript library for plotting interactive maps.\n",
        "\n",
        "* It has the power of Leaflet.js and the simplicity of Python, which makes it an excellent tool for plotting maps. \n",
        "* Folium is designed with simplicity, performance, and usability in mind. \n",
        "* It works efficiently, can be extended with a lot of plugins, has a beautiful and easy-to-use API.\n",
        "\n",
        "**To know more about Folium & Leaflet.js click the below link**\n",
        "\n",
        "* [Folium](https://python-visualization.github.io/folium/index.html)\n",
        "* [Leaflet.js](https://leafletjs.com/)\n",
        "\n",
        "\n"
      ]
    },
    {
      "cell_type": "markdown",
      "metadata": {
        "id": "wU9WFLMLzEsg"
      },
      "source": [
        "## **Plotting Maps with Folium**\n",
        "* Plotting maps with Folium is easier than you think. Folium provides the folium.\n",
        "* Map() class which takes location parameter in terms of latitude and longitude and generates a map around it. \n",
        "* So, let’s plot a map of Bengaluru with latitude and longitude as 12.983377 and 77.594167 respectively:"
      ]
    },
    {
      "cell_type": "code",
      "metadata": {
        "id": "UWVHzhc6yoP8",
        "colab": {
          "base_uri": "https://localhost:8080/",
          "height": 685
        },
        "outputId": "db9e3092-c293-4ba1-a5d7-8ddd522eacba"
      },
      "source": [
        "import folium\n",
        "m=folium.Map(location=[12.983377, 77.594167])\n",
        "m"
      ],
      "execution_count": null,
      "outputs": [
        {
          "output_type": "execute_result",
          "data": {
            "text/html": [
              "<div style=\"width:100%;\"><div style=\"position:relative;width:100%;height:0;padding-bottom:60%;\"><span style=\"color:#565656\">Make this Notebook Trusted to load map: File -> Trust Notebook</span><iframe src=\"about:blank\" style=\"position:absolute;width:100%;height:100%;left:0;top:0;border:none !important;\" data-html=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 onload=\"this.contentDocument.open();this.contentDocument.write(atob(this.getAttribute('data-html')));this.contentDocument.close();\" allowfullscreen webkitallowfullscreen mozallowfullscreen></iframe></div></div>"
            ],
            "text/plain": [
              "<folium.folium.Map at 0x7fe7dd50bb38>"
            ]
          },
          "metadata": {
            "tags": []
          },
          "execution_count": 1
        }
      ]
    },
    {
      "cell_type": "code",
      "metadata": {
        "id": "4WRpuSSEMDPz",
        "colab": {
          "base_uri": "https://localhost:8080/",
          "height": 685
        },
        "outputId": "3248291f-4421-409a-9182-5bac1d20ffbe"
      },
      "source": [
        "\n",
        "m=folium.Map(location=[15.026530, 78.047674])\n",
        "m"
      ],
      "execution_count": null,
      "outputs": [
        {
          "output_type": "execute_result",
          "data": {
            "text/html": [
              "<div style=\"width:100%;\"><div style=\"position:relative;width:100%;height:0;padding-bottom:60%;\"><span style=\"color:#565656\">Make this Notebook Trusted to load map: File -> Trust Notebook</span><iframe src=\"about:blank\" style=\"position:absolute;width:100%;height:100%;left:0;top:0;border:none !important;\" data-html=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 onload=\"this.contentDocument.open();this.contentDocument.write(atob(this.getAttribute('data-html')));this.contentDocument.close();\" allowfullscreen webkitallowfullscreen mozallowfullscreen></iframe></div></div>"
            ],
            "text/plain": [
              "<folium.folium.Map at 0x7fe7dc511940>"
            ]
          },
          "metadata": {
            "tags": []
          },
          "execution_count": 2
        }
      ]
    },
    {
      "cell_type": "markdown",
      "metadata": {
        "id": "RbAsPGOk0xGc"
      },
      "source": [
        "You can see that these maps are interactive. You can zoom in and out by clicking the positive and negative buttons in the top-left corner of the map. You can also drag the map and see different regions.\n",
        "\n",
        "Let’s try to customize this map now. First, we’ll reduce the height and width of the map, and then we’ll change the zoom level.\n",
        "\n",
        "We can resize our map by using the [branca](https://github.com/python-visualization/branca) library in Python. It is a spinoff from Folium that hosts the non-map specific features. We can use its Figure class for resizing our maps and pass the desired width and height in pixels:"
      ]
    },
    {
      "cell_type": "code",
      "metadata": {
        "id": "H6-WYI1l0446"
      },
      "source": [
        "from branca.element import Figure\n",
        "fig=Figure(width=550,height=350)"
      ],
      "execution_count": null,
      "outputs": []
    },
    {
      "cell_type": "markdown",
      "metadata": {
        "id": "cV0WDEHi1CYY"
      },
      "source": [
        "* Next, let’s move to our second problem and change the zoom level. \n",
        "\n",
        "* By default, you can zoom in and out as much as you want. Also, the starting zoom level is fixed to 10 (the map is plotted with a 10x zoom). \n",
        "\n",
        "* Now, you might be thinking – how can this be a problem?\n",
        "\n",
        "* Well, imagine you want to plot a map of a small area. Here, you need to mention the appropriate starting zoom level so that the map focuses only on that region. \n",
        "* Also, if you don’t want them to zoom in or out much and lose focus on the map, then you can restrict it. \n",
        "\n",
        "* For doing this, Folium gives us three parameters – zoom_start, min_zoom, and max_zoom.\n",
        "\n",
        "* So, let us again plot the map of Bengaluru but this time of fixed size and with a restricted zoom level:"
      ]
    },
    {
      "cell_type": "code",
      "metadata": {
        "id": "D0GHh0481C2W",
        "colab": {
          "base_uri": "https://localhost:8080/",
          "height": 371
        },
        "outputId": "24bad491-58b0-4975-faa4-39bfa5674b02"
      },
      "source": [
        "m1=folium.Map(width=550,height=350,location=[12.983377, 77.594167],zoom_start=11,min_zoom=10,max_zoom=14)\n",
        "fig.add_child(m1)\n",
        "m1"
      ],
      "execution_count": null,
      "outputs": [
        {
          "output_type": "execute_result",
          "data": {
            "text/html": [
              "<iframe src=\"about:blank\" width=\"550\" height=\"350\"style=\"border:none !important;\" data-html=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 onload=\"this.contentDocument.open();this.contentDocument.write(atob(this.getAttribute('data-html')));this.contentDocument.close();\" \"allowfullscreen\" \"webkitallowfullscreen\" \"mozallowfullscreen\"></iframe>"
            ],
            "text/plain": [
              "<folium.folium.Map at 0x7fe7dc4b1f28>"
            ]
          },
          "metadata": {
            "tags": []
          },
          "execution_count": 6
        }
      ]
    },
    {
      "cell_type": "markdown",
      "metadata": {
        "id": "NPm05zsw2WIx"
      },
      "source": [
        "## **Layers and Tiles in Folium**\n",
        "\n",
        "A tileset is a collection of raster and vector data broken up into a uniform grid of square tiles. Each tileset has a different way of representing data in the map. Folium allows us to create maps with different tiles like Stamen Terrain, Stamen Toner, Stamen Water Color, CartoDB Positron, and many more. By default, the tiles are set to OpenStreetMap.\n",
        "\n",
        "Each tileset shows different features of a map and is suitable for different purposes. For example, Stamen Terrain features hill shading and natural vegetation colors. It showcases advanced labeling and linework generalization of dual-carriageway roads. And, CartoDB Dark Matter shows the CartoDB Positron map in dark mode.\n",
        "\n",
        "Since now we know that each tileset provides information in a different way and serves a different purpose, we can layer them over one another to get more information by just plotting a single map. We can do this by adding different layers of tiles to a single map:"
      ]
    },
    {
      "cell_type": "code",
      "metadata": {
        "id": "4wEw6K8e2kX6",
        "colab": {
          "base_uri": "https://localhost:8080/",
          "height": 371
        },
        "outputId": "c3b277f8-8bf3-464f-f08d-aa0dc9b6d39e"
      },
      "source": [
        "fig2=Figure(width=550,height=350)\n",
        "m2=folium.Map(location=[12.983377, 77.594167])\n",
        "fig2.add_child(m2)\n",
        "folium.TileLayer('Stamen Terrain').add_to(m2)\n",
        "folium.TileLayer('Stamen Toner').add_to(m2)\n",
        "folium.TileLayer('Stamen Water Color').add_to(m2)\n",
        "folium.TileLayer('cartodbpositron').add_to(m2)\n",
        "folium.TileLayer('cartodbdark_matter').add_to(m2)\n",
        "folium.LayerControl().add_to(m2)\n",
        "m2"
      ],
      "execution_count": null,
      "outputs": [
        {
          "output_type": "execute_result",
          "data": {
            "text/html": [
              "<iframe src=\"about:blank\" width=\"550\" height=\"350\"style=\"border:none !important;\" data-html=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 onload=\"this.contentDocument.open();this.contentDocument.write(atob(this.getAttribute('data-html')));this.contentDocument.close();\" \"allowfullscreen\" \"webkitallowfullscreen\" \"mozallowfullscreen\"></iframe>"
            ],
            "text/plain": [
              "<folium.folium.Map at 0x7fe7dc465518>"
            ]
          },
          "metadata": {
            "tags": []
          },
          "execution_count": 8
        }
      ]
    },
    {
      "cell_type": "markdown",
      "metadata": {
        "id": "deRltjcK24vm"
      },
      "source": [
        "Here, you can see that I have added five different tile layers to a single map and now I have 6 different layers of tilesets. I have also added **LayerControl()** to the map which provides an icon on the top-right corner of the map for switching between the different layers.\n",
        "\n",
        "We can also layer other objects over a single map. Later in this article, we’ll layer paths of three different vehicles on a single map."
      ]
    },
    {
      "cell_type": "markdown",
      "metadata": {
        "id": "PH6syuKo3AWj"
      },
      "source": [
        "## **Plotting Markers on the Map**\n",
        "Markers are the items used for marking a location on a map. For example, when you use Google Maps for navigation, your location is marked by a marker and your destination is marked by another marker.** Markers are among the most important and helpful things on a map.**\n",
        "\n",
        "Folium gives a **folium.Marker()** class for plotting markers on a map. Just pass the latitude and longitude of the location, mention the popup and tooltip and add it to the map.\n",
        "\n",
        "Plotting markers is a two-step process. First, you need to create a base map on which your markers will be placed, and then add your markers to it:"
      ]
    },
    {
      "cell_type": "code",
      "metadata": {
        "id": "uTebMLE427W_",
        "colab": {
          "base_uri": "https://localhost:8080/",
          "height": 371
        },
        "outputId": "5b79a4cb-f1ba-481d-d93d-340b313af1f1"
      },
      "source": [
        "\n",
        "# Creating Basemap\n",
        "fig3=Figure(width=550,height=350)\n",
        "m3=folium.Map(location=[12.983377, 77.594167],tiles='cartodbpositron',zoom_start=11)\n",
        "fig3.add_child(m3)\n",
        "\n",
        "#Adding markers to the map\n",
        "folium.Marker(location=[13.176529, 77.535911],popup='<b>Presidency University</b>',tooltip='Click here to see Popup').add_to(m3)\n",
        "folium.Marker(location=[13.116888, 77.606788],popup='<strong>Yelahanka</strong>',tooltip='<strong>Click here to see Popup</strong>').add_to(m3)\n",
        "folium.Marker(location=[12.980797, 77.648959],popup='<h3 style=\"color:green;\">Indra Nagar</h3>',tooltip='<strong>Click here to see Popup</strong>').add_to(m3)\n",
        "\n",
        "m3"
      ],
      "execution_count": null,
      "outputs": [
        {
          "output_type": "execute_result",
          "data": {
            "text/html": [
              "<iframe src=\"about:blank\" width=\"550\" height=\"350\"style=\"border:none !important;\" data-html=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 onload=\"this.contentDocument.open();this.contentDocument.write(atob(this.getAttribute('data-html')));this.contentDocument.close();\" \"allowfullscreen\" \"webkitallowfullscreen\" \"mozallowfullscreen\"></iframe>"
            ],
            "text/plain": [
              "<folium.folium.Map at 0x7fe7dc3e10b8>"
            ]
          },
          "metadata": {
            "tags": []
          },
          "execution_count": 12
        }
      ]
    },
    {
      "cell_type": "markdown",
      "metadata": {
        "id": "P36sEMDa4N8v"
      },
      "source": [
        "Here, I have created three markers on the map of Delhi. The text when you hover over a marker is known as tooltip and the content when you click on a marker is known as a popup. If you look closely here, I have customized tooltips and popups of markers 2 and 3. You can also customize them according to your needs by passing the content as HTML to the class.\n",
        "\n",
        "Now, normally when we book a ride on Uber or order food from Zomato, we see very different and beautiful markers. How can we create something like that?\n",
        "\n",
        "There are two things that you can customize to change the appearance of a marker. First, you can change the icon of the marker, and second, you can change the shape of the marker. Folium gives the **folium.Icon()** class which can be used for creating custom icons for markers. You can choose icons from a wide range of options.\n",
        "\n",
        "Icon() takes three arguments – color, prefix and icon. Color is used for changing the color of the marker, the prefix is used for selecting the icon provider (fa for Fontawesome and glyphicon for Glyphicons), and the icon is used for selecting the icon name.\n",
        "\n",
        "Now, let’s learn how you can change the shape of the marker. Folium has the folium.features.CustomIcon() class that can be used for creating custom markers. It takes the path of the image and icon size in pixels as arguments and creates an icon object. This icon object can be passed to the **folium.Icon()** class as an icon for creating custom markers:\n",
        "\n"
      ]
    },
    {
      "cell_type": "code",
      "metadata": {
        "id": "ncQ1Tdtv4mpn",
        "colab": {
          "base_uri": "https://localhost:8080/",
          "height": 371
        },
        "outputId": "f4d4ddd3-439e-4d3f-8301-c17a2cbca69c"
      },
      "source": [
        "# Creating Basemap\n",
        "fig4=Figure(height=350,width=550)\n",
        "m4=folium.Map(location=[12.983377, 77.594167],tiles='cartodbpositron',zoom_start=11)\n",
        "fig4.add_child(m4)\n",
        "\n",
        "# Adding Custom Markers\n",
        "folium.Marker(location=[13.176529, 77.535911],popup='Custom Marker 1',tooltip='<strong>Click here to see Popup</strong>',icon=folium.Icon(color='red',icon='none')).add_to(m4)\n",
        "folium.Marker(location=[13.116888, 77.606788],popup='Custom Marker 2',tooltip='<strong>Click here to see Popup</strong>',icon=folium.Icon(color='green',prefix='glyphicon',icon='off')).add_to(m4)\n",
        "folium.Marker(location=[12.980797, 77.648959],popup='Custom Marker 3',tooltip='<strong>Click here to see Popup</strong>',icon=folium.Icon(color='purple',prefix='fa',icon='anchor')).add_to(m4)\n",
        "icon1=folium.features.CustomIcon('/content/icon1.jpeg',icon_size=(50,50))\n",
        "folium.Marker(location=[13.980797, 78.648959],popup='Custom Marker 4',tooltip='<strong>Click here to see Popup</strong>',icon=folium.Icon(color='purple',prefix='glyphicon',icon='icon1')).add_to(m4)\n",
        "\n",
        "m4"
      ],
      "execution_count": null,
      "outputs": [
        {
          "output_type": "execute_result",
          "data": {
            "text/html": [
              "<iframe src=\"about:blank\" width=\"550\" height=\"350\"style=\"border:none !important;\" data-html=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 onload=\"this.contentDocument.open();this.contentDocument.write(atob(this.getAttribute('data-html')));this.contentDocument.close();\" \"allowfullscreen\" \"webkitallowfullscreen\" \"mozallowfullscreen\"></iframe>"
            ],
            "text/plain": [
              "<folium.folium.Map at 0x7fe7dc386b70>"
            ]
          },
          "metadata": {
            "tags": []
          },
          "execution_count": 20
        }
      ]
    },
    {
      "cell_type": "markdown",
      "metadata": {
        "id": "-ibQs3LZ59Zz"
      },
      "source": [
        "### **Plotting Paths using Folium**\n",
        "As I said earlier, we’ll plot the path of 3 vehicles on the map. We have three arrays for three vehicles containing latitudes and longitudes of their paths:"
      ]
    },
    {
      "cell_type": "code",
      "metadata": {
        "id": "TDA-6_jx6CrJ"
      },
      "source": [
        "coords_1=[[28.65685,77.21899],[28.65699,77.21898],[28.65699,77.21898],\n",
        "[28.65702,77.21875],[28.65702,77.21875],[28.6547,77.21902],[28.65308,77.21921],\n",
        "[28.65286,77.21926],[28.65255,77.21938],[28.65227,77.21954],[28.65152,77.22005],\n",
        "[28.64655,77.22346],[28.64643,77.22354],[28.64635,77.22357],[28.64623,77.2236],\n",
        "[28.64616,77.22363],[28.64612,77.22364],[28.64557,77.22364],[28.64525,77.22365],\n",
        "[28.64525,77.22365],[28.64517,77.22366],[28.64515,77.22367],[28.64512,77.22367],\n",
        "[28.64504,77.22369],[28.64493,77.22371],[28.64483,77.22373],[28.64462,77.22377],\n",
        "[28.6445,77.22381],[28.64444,77.22383],[28.64439,77.22387],[28.64434,77.2239],\n",
        "[28.64429,77.22395],[28.64421,77.22403],[28.64417,77.22412],[28.64407,77.22429],\n",
        "[28.64391,77.22465],[28.64353,77.22539],[28.64282,77.22678],[28.64282,77.22678],\n",
        "[28.64285,77.2268],[28.64287,77.22683],[28.64289,77.22686],[28.64291,77.2269],\n",
        "[28.64292,77.22694],[28.64292,77.22697],[28.64292,77.22701],[28.64292,77.22705],\n",
        "[28.64292,77.22705],[28.64291,77.22711],[28.64288,77.22716],[28.64285,77.2272],\n",
        "[28.64281,77.22724],[28.64276,77.22726],[28.64271,77.22728],[28.64266,77.22728],\n",
        "[28.64261,77.22727],[28.64261,77.22727],[28.64257,77.22725],[28.64254,77.22723],\n",
        "[28.64251,77.2272],[28.64249,77.22717],[28.64247,77.22713],[28.64245,77.22709],\n",
        "[28.64244,77.22704],[28.64244,77.22699],[28.64245,77.22693],[28.64246,77.22689],\n",
        "[28.64214,77.22665],[28.64169,77.22632],[28.64163,77.22627],[28.64095,77.22582],\n",
        "[28.64009,77.22516],[28.63913,77.22445],[28.63799,77.22352],[28.63794,77.22349],\n",
        "[28.63761,77.22327],[28.6375,77.2232],[28.63737,77.22311],[28.63727,77.22304],\n",
        "[28.63706,77.22288],[28.63631,77.22233],[28.63528,77.2216],[28.63521,77.22154],\n",
        "[28.63521,77.22154],[28.63518,77.22158],[28.63499,77.2218],[28.63471,77.22212],\n",
        "[28.63442,77.22238],[28.63411,77.2226],[28.6339,77.22272],[28.63368,77.22282],\n",
        "[28.63345,77.2229],[28.63313,77.22297],[28.63281,77.22299],[28.63249,77.22298],\n",
        "[28.63217,77.22293],[28.63186,77.22283],[28.63141,77.22256],[28.63125,77.2224],\n",
        "[28.63101,77.22227],[28.63082,77.22207],[28.63062,77.22185],[28.63046,77.22162],\n",
        "[28.63029,77.22141],[28.63029,77.22141],[28.63026,77.22138],[28.63022,77.22136],\n",
        "[28.63018,77.22135],[28.63014,77.22134],[28.6301,77.22134],[28.63006,77.22135],\n",
        "[28.63004,77.22135],[28.63004,77.22135]]\n",
        "\n",
        "coords_2=[[28.63382,77.22045],[28.63458,77.221],[28.63514,77.22142],\n",
        "[28.63517,77.22146],[28.63519,77.22151],[28.63518,77.22158],[28.63518,77.22158],\n",
        "[28.63499,77.2218],[28.63471,77.22212],[28.63442,77.22238],[28.63411,77.2226],\n",
        "[28.6339,77.22272],[28.63368,77.22282],[28.63345,77.2229],[28.63313,77.22297],\n",
        "[28.63281,77.22299],[28.63249,77.22298],[28.63217,77.22293],[28.63186,77.22283],\n",
        "[28.63141,77.22256],[28.63141,77.22256],[28.63129,77.22258],[28.63121,77.22259],\n",
        "[28.63113,77.22266],[28.63072,77.22335],[28.63063,77.22353],[28.63059,77.22359],\n",
        "[28.63046,77.22381],[28.63043,77.22388],[28.62914,77.22615],[28.62914,77.22615],\n",
        "[28.62922,77.22648],[28.62923,77.22651],[28.62924,77.22653],[28.62925,77.22655],\n",
        "[28.62926,77.22657],[28.62935,77.22665],[28.62937,77.22667],[28.62938,77.22669],\n",
        "[28.62939,77.22672],[28.62943,77.22682],[28.62943,77.22682],[28.62972,77.22701],\n",
        "[28.63027,77.22744],[28.63436,77.23048],[28.63456,77.2306],[28.63482,77.23072],\n",
        "[28.63511,77.23084],[28.63545,77.23091],[28.63581,77.23095],[28.63656,77.23101],\n",
        "[28.63673,77.23102],[28.63824,77.23116],[28.63985,77.23134],[28.64039,77.23144],\n",
        "[28.64039,77.23144],[28.64049,77.23147],[28.64038,77.23156],[28.64022,77.23153],\n",
        "[28.64022,77.23153]]\n",
        "\n",
        "coords_3=[[28.63216,77.21864],[28.63225,77.21858],[28.63237,77.21851],\n",
        "[28.6325,77.21846],[28.63262,77.21843],[28.63279,77.21841],[28.63295,77.21843],\n",
        "[28.63311,77.21846],[28.63326,77.21853],[28.63341,77.21862],[28.63341,77.21862],\n",
        "[28.63394,77.21768],[28.6342,77.21722],[28.63425,77.21713],[28.6343,77.21704],\n",
        "[28.6343,77.21704],[28.63432,77.21686],[28.63495,77.21581],[28.6357,77.21452],\n",
        "[28.63745,77.21151],[28.63951,77.20794],[28.63956,77.20787],[28.63971,77.20763],\n",
        "[28.64055,77.2061],[28.64096,77.20533],[28.64106,77.20519],[28.64121,77.20486],\n",
        "[28.64132,77.20468],[28.64179,77.20418],[28.64222,77.20381],[28.64254,77.20346],\n",
        "[28.64267,77.20333],[28.64277,77.2032],[28.64277,77.2032],[28.64281,77.20314],\n",
        "[28.64285,77.20309],[28.64291,77.20306],[28.64297,77.20304],[28.64303,77.20303],\n",
        "[28.64309,77.20304],[28.64315,77.20306],[28.6432,77.2031],[28.64324,77.20314],\n",
        "[28.64327,77.2032],[28.64327,77.2032],[28.64341,77.20336],[28.64375,77.20351],\n",
        "[28.64406,77.20367],[28.64495,77.20426],[28.6459,77.20495],[28.64612,77.2051],\n",
        "[28.64612,77.2051],[28.64629,77.2051],[28.64639,77.20508],[28.64648,77.20506],\n",
        "[28.64657,77.20497],[28.64659,77.20495],[28.64659,77.20495]]"
      ],
      "execution_count": null,
      "outputs": []
    },
    {
      "cell_type": "markdown",
      "metadata": {
        "id": "b7f2VlkD6IpD"
      },
      "source": [
        "We’ll use these latitudes and longitudes to plot paths for the three vehicles.\n",
        "\n",
        "Here’s how we’ll do it:\n",
        "\n",
        "* Create a base map\n",
        "* Create a feature group for each vehicle\n",
        "* Then create paths and add them to the feature groups\n",
        "* Finally, add these feature groups and layer control to the map\n",
        "\n",
        "Let’s do it:"
      ]
    },
    {
      "cell_type": "code",
      "metadata": {
        "id": "3m9cPwCN6Ut7",
        "colab": {
          "base_uri": "https://localhost:8080/",
          "height": 571
        },
        "outputId": "49a9d6e6-3153-489d-9871-560fafe69f21"
      },
      "source": [
        "fig5=Figure(height=550,width=750)\n",
        "m5=folium.Map(location=[28.644800, 77.216721],zoom_start=14)\n",
        "fig5.add_child(m5)"
      ],
      "execution_count": null,
      "outputs": [
        {
          "output_type": "execute_result",
          "data": {
            "text/html": [
              "<iframe src=\"about:blank\" width=\"750\" height=\"550\"style=\"border:none !important;\" data-html=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 onload=\"this.contentDocument.open();this.contentDocument.write(atob(this.getAttribute('data-html')));this.contentDocument.close();\" \"allowfullscreen\" \"webkitallowfullscreen\" \"mozallowfullscreen\"></iframe>"
            ],
            "text/plain": [
              "<branca.element.Figure at 0x7fe7dc303c88>"
            ]
          },
          "metadata": {
            "tags": []
          },
          "execution_count": 32
        }
      ]
    },
    {
      "cell_type": "markdown",
      "metadata": {
        "id": "gza5d6n46fc6"
      },
      "source": [
        "Now, what is a feature group? A feature group is something where we can put things and treat them as a single layer. It can be created using the folium.FeatureGroup() class. We’ll put our paths in these feature groups.\n",
        " \n",
        "Next, I’ll draw paths of vehicles and add them to the feature groups. For this, I’ll use the PolyLine class from the vector_layers of Folium. The vector_layers wraps Polyline, Polygon, Rectangle, Circle, and CircleMarker features of Leaflet.js which are used for creating different shapes on the map.\n",
        " \n",
        "The Polyline class is used for creating polyline overlays on the map and we’ll do the same with it. It takes the array of latitudes and longitudes, popup, tooltip, color, and weight as arguments and draws a polyline on the map.\n",
        " \n",
        "Weight determines how thick or thin the polyline will be. There are also other arguments related to plotting a path and you can read about them [here](https://python-visualization.github.io/folium/modules.html#folium.vector_layers.path_options)."
      ]
    },
    {
      "cell_type": "code",
      "metadata": {
        "id": "6mtZOWZB6jtg"
      },
      "source": [
        "# Creating feature groups\n",
        "f1=folium.FeatureGroup(\"Vehicle 1\")\n",
        "f2=folium.FeatureGroup(\"Vehicle 2\")\n",
        "f3=folium.FeatureGroup(\"Vehicle 3\")\n",
        "\n",
        "# Adding lines to the different feature groups\n",
        "line_1=folium.vector_layers.PolyLine(coords_1,popup='<b>Path of Vehicle_1</b>',tooltip='Vehicle_1',color='blue',weight=10).add_to(f1)\n",
        "line_2=folium.vector_layers.PolyLine(coords_2,popup='<b>Path of Vehicle_2</b>',tooltip='Vehicle_2',color='red',weight=5).add_to(f2)\n",
        "line_3=folium.vector_layers.PolyLine(coords_3,popup='<b>Path of Vehicle_3</b>',tooltip='Vehicle_3',color='green',weight=10).add_to(f3)\n"
      ],
      "execution_count": null,
      "outputs": []
    },
    {
      "cell_type": "markdown",
      "metadata": {
        "id": "e9feWIK76qvq"
      },
      "source": [
        "Next, we’ll add these feature groups to our base map and we’ll also add layer control for controlling the layers:"
      ]
    },
    {
      "cell_type": "code",
      "metadata": {
        "id": "QHwOFrRM6rbS",
        "colab": {
          "base_uri": "https://localhost:8080/",
          "height": 571
        },
        "outputId": "8e5da7b2-1af2-4381-a7bf-733488685623"
      },
      "source": [
        "f1.add_to(m5)\n",
        "f2.add_to(m5)\n",
        "f3.add_to(m5)\n",
        "folium.LayerControl().add_to(m5)\n",
        "m5"
      ],
      "execution_count": null,
      "outputs": [
        {
          "output_type": "execute_result",
          "data": {
            "text/html": [
              "<iframe src=\"about:blank\" width=\"750\" height=\"550\"style=\"border:none !important;\" data-html=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 onload=\"this.contentDocument.open();this.contentDocument.write(atob(this.getAttribute('data-html')));this.contentDocument.close();\" \"allowfullscreen\" \"webkitallowfullscreen\" \"mozallowfullscreen\"></iframe>"
            ],
            "text/plain": [
              "<folium.folium.Map at 0x7fe7dc36af28>"
            ]
          },
          "metadata": {
            "tags": []
          },
          "execution_count": 29
        }
      ]
    },
    {
      "cell_type": "markdown",
      "metadata": {
        "id": "Tqsm-D6m6wxf"
      },
      "source": [
        "We can clearly see the path of all three vehicles. \n",
        "\n",
        "Notice on the top-right corner we have the layer control option through which we can switch between different layers. \n",
        "\n",
        "We can see the information about each path by clicking on it. \n",
        "\n",
        "You can also try other functions of the vector_layers and create different overlays on maps."
      ]
    },
    {
      "cell_type": "markdown",
      "metadata": {
        "id": "K_wIaO2g67J6"
      },
      "source": [
        "# **Plugins in Folium**\n",
        "Folium’s plugins wrap some of the most popular Leaflet.js external plugins. These plugins make Folium very powerful. There are so many plugins for Folium like AntPath, MeasureControl, and Draw which make mapping a piece of cake.\n",
        "\n",
        "\n",
        "\n",
        "[Folium’s plugins](https://python-visualization.github.io/folium/plugins.html#module-folium.plugins)\n"
      ]
    },
    {
      "cell_type": "code",
      "metadata": {
        "id": "yv7_KD2wchcO",
        "colab": {
          "base_uri": "https://localhost:8080/",
          "height": 685
        },
        "outputId": "846a4d4c-825f-4ade-e058-bec46b4c5fb7"
      },
      "source": [
        "\n",
        "l=folium.Map(location=[12.983377, 77.594167])\n",
        "l\n",
        "\n",
        "folium.Marker(location=[13.176529, 77.535911],popup='<b>Presidency University</b>',tooltip='Click here to see Popup').add_to(l)\n",
        "folium.Marker(location=[13.172889, 77.564292],popup='<strong>Rajanukunte</strong>',tooltip='<strong>Click here to see Popup</strong>').add_to(l)\n",
        "\n",
        "l\n"
      ],
      "execution_count": null,
      "outputs": [
        {
          "output_type": "execute_result",
          "data": {
            "text/html": [
              "<div style=\"width:100%;\"><div style=\"position:relative;width:100%;height:0;padding-bottom:60%;\"><span style=\"color:#565656\">Make this Notebook Trusted to load map: File -> Trust Notebook</span><iframe src=\"about:blank\" style=\"position:absolute;width:100%;height:100%;left:0;top:0;border:none !important;\" data-html=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 onload=\"this.contentDocument.open();this.contentDocument.write(atob(this.getAttribute('data-html')));this.contentDocument.close();\" allowfullscreen webkitallowfullscreen mozallowfullscreen></iframe></div></div>"
            ],
            "text/plain": [
              "<folium.folium.Map at 0x7fe7dc2a0240>"
            ]
          },
          "metadata": {
            "tags": []
          },
          "execution_count": 33
        }
      ]
    },
    {
      "cell_type": "code",
      "metadata": {
        "id": "vKAz_UOZc24v"
      },
      "source": [
        "coords=[[13.176529, 77.535911],[13.173664, 77.537156],[13.173821, 77.537741],[13.174046, 77.538031],[13.173905, 77.539206],[13.174276, 77.540177],\n",
        "        [13.175062, 77.543217],[13.175568, 77.545053],[13.174751, 77.548428],[13.170174, 77.549928],[13.169819, 77.551773],[13.171562, 77.558573],\n",
        "        [13.172105, 77.561062],[13.172544, 77.562103],[13.172889, 77.564292]]"
      ],
      "execution_count": null,
      "outputs": []
    },
    {
      "cell_type": "code",
      "metadata": {
        "id": "ylOimFgCkL62",
        "colab": {
          "base_uri": "https://localhost:8080/",
          "height": 685
        },
        "outputId": "7f7649e4-4df0-4df9-c3b8-c27c186ec3c1"
      },
      "source": [
        "\n",
        "f=folium.FeatureGroup(\"Vehicle 1\")\n",
        "\n",
        "\n",
        "line_1=folium.vector_layers.PolyLine(coords,popup='<b>Path of Vehicle_1</b>',tooltip='Vehicle_1',color='blue',weight=10).add_to(f)\n",
        "\n",
        "\n",
        "f.add_to(l)\n",
        "folium.LayerControl().add_to(l)\n",
        "l"
      ],
      "execution_count": null,
      "outputs": [
        {
          "output_type": "execute_result",
          "data": {
            "text/html": [
              "<div style=\"width:100%;\"><div style=\"position:relative;width:100%;height:0;padding-bottom:60%;\"><span style=\"color:#565656\">Make this Notebook Trusted to load map: File -> Trust Notebook</span><iframe src=\"about:blank\" style=\"position:absolute;width:100%;height:100%;left:0;top:0;border:none !important;\" data-html=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 onload=\"this.contentDocument.open();this.contentDocument.write(atob(this.getAttribute('data-html')));this.contentDocument.close();\" allowfullscreen webkitallowfullscreen mozallowfullscreen></iframe></div></div>"
            ],
            "text/plain": [
              "<folium.folium.Map at 0x7fe7dc2a0240>"
            ]
          },
          "metadata": {
            "tags": []
          },
          "execution_count": 35
        }
      ]
    }
  ]
}